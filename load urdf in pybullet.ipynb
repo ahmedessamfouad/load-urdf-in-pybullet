{
 "cells": [
  {
   "cell_type": "code",
   "execution_count": 1,
   "id": "1968c82f-6cbd-4a14-a98b-ebbf93447005",
   "metadata": {},
   "outputs": [],
   "source": [
    "#pybullet is a simple Python interface to the physics engine Bullet.\n",
    "import pybullet"
   ]
  },
  {
   "cell_type": "code",
   "execution_count": 2,
   "id": "061bae05-b34b-4193-8b3f-77c127e317e8",
   "metadata": {},
   "outputs": [
    {
     "data": {
      "text/plain": [
       "0"
      ]
     },
     "execution_count": 2,
     "metadata": {},
     "output_type": "execute_result"
    }
   ],
   "source": [
    "#Starting the simulation is dead simple\n",
    "pybullet.connect(pybullet.GUI)\n",
    "# without GUI: pybullet.connect(pybullet.DIRECT)"
   ]
  },
  {
   "cell_type": "code",
   "execution_count": 3,
   "id": "8749a872-8ffe-4d10-a290-8c5561f1a6b8",
   "metadata": {},
   "outputs": [],
   "source": [
    "#You can reset the simulation to its original state whenever you want which makes it appealing for all kind of reinforcement learning algorithms.\n",
    "#After resetting the environment, all models have to be recreated. \n",
    "pybullet.resetSimulation()"
   ]
  },
  {
   "cell_type": "code",
   "execution_count": 4,
   "id": "75a36864-0f07-4a29-88f9-ae9805011c05",
   "metadata": {},
   "outputs": [],
   "source": [
    "#pybullet can load kinematic descriptions of robots or other objects from (URDF) unified robotics description format files.\n",
    "#You could also create your robot manually with a bunch of function calls but you usually don't want that because there are so many tools that support URDF\n",
    "#for example, inverse kinematics solvers, visualization tools, etc. Other supported formats are Bullet's own format, \n",
    "#Gazebo's SDF, and MuJoCo's MJCF files. These support multiple objects and allow you to load entire simulation scenarios at once.\n",
    "#pybullet also comes with some objects that are often useful, for example, a plane:\n",
    "import pybullet_data\n",
    "pybullet.setAdditionalSearchPath(pybullet_data.getDataPath())"
   ]
  },
  {
   "cell_type": "code",
   "execution_count": 5,
   "id": "3085572d-6377-4e75-8aa2-e5ea5e929067",
   "metadata": {},
   "outputs": [],
   "source": [
    "#Let's load some more complicated object: ROS-Industrial has some URDFs for Kuka robots.\n",
    "# Load the URDF file (replace 'path_to_urdf_file.urdf' with your URDF file path)\n",
    "robot_id = pybullet.loadURDF('arm.urdf', basePosition=[0, 0, 0], baseOrientation=[0, 0, 0, 1])"
   ]
  },
  {
   "cell_type": "code",
   "execution_count": 6,
   "id": "8b4022c2-a643-438e-99c5-3138c294d0f6",
   "metadata": {},
   "outputs": [
    {
     "data": {
      "text/plain": [
       "(0.0, 0.0, 0.0, 1.0)"
      ]
     },
     "execution_count": 6,
     "metadata": {},
     "output_type": "execute_result"
    }
   ],
   "source": [
    "#Orientation is usually given in quaternions (x, y, z, w).\n",
    "position, orientation = pybullet.getBasePositionAndOrientation(robot_id)\n",
    "orientation"
   ]
  },
  {
   "cell_type": "code",
   "execution_count": 7,
   "id": "2ff876d8-0e29-49be-be37-06146c04fabb",
   "metadata": {},
   "outputs": [
    {
     "data": {
      "text/plain": [
       "6"
      ]
     },
     "execution_count": 7,
     "metadata": {},
     "output_type": "execute_result"
    }
   ],
   "source": [
    "pybullet.getNumJoints(robot_id) # get fixed and revolute joints"
   ]
  },
  {
   "cell_type": "code",
   "execution_count": 8,
   "id": "dbc1c05a-b145-45ed-bd61-ee480ab3b2bd",
   "metadata": {},
   "outputs": [
    {
     "data": {
      "text/plain": [
       "(b'arm_joint_2', 0, -1.57079632679, 1.57079632679)"
      ]
     },
     "execution_count": 8,
     "metadata": {},
     "output_type": "execute_result"
    }
   ],
   "source": [
    "#We can request information about each joint.\n",
    "joint_index = 2\n",
    "joint_info = pybullet.getJointInfo(robot_id, joint_index)\n",
    "name, joint_type, lower_limit, upper_limit = \\\n",
    "    joint_info[1], joint_info[2], joint_info[8], joint_info[9]\n",
    "name, joint_type, lower_limit, upper_limit\n"
   ]
  },
  {
   "cell_type": "code",
   "execution_count": 9,
   "id": "1971cd45-5a77-4170-a33e-748de87168d6",
   "metadata": {},
   "outputs": [
    {
     "data": {
      "text/plain": [
       "[0.0, 0.0, 0.0, 0.0, 0.0, 0.0]"
      ]
     },
     "execution_count": 9,
     "metadata": {},
     "output_type": "execute_result"
    }
   ],
   "source": [
    "# request the current state of each joint returned by pybullet.getJointInfo(...)\n",
    "joint_positions = [j[0] for j in pybullet.getJointStates(robot_id, range(6))]\n",
    "joint_positions"
   ]
  },
  {
   "cell_type": "code",
   "execution_count": 10,
   "id": "59c51463-d9a4-4287-a50d-343fde16df84",
   "metadata": {},
   "outputs": [
    {
     "data": {
      "text/plain": [
       "(0.0, 0.0, 0.33599999999999997)"
      ]
     },
     "execution_count": 10,
     "metadata": {},
     "output_type": "execute_result"
    }
   ],
   "source": [
    "#ask for the current position of a link.\n",
    "world_position, world_orientation = pybullet.getLinkState(robot_id, 2)[:2]\n",
    "world_position"
   ]
  },
  {
   "cell_type": "code",
   "execution_count": 11,
   "id": "317a3a77-1acf-4074-bb01-bb50921b3d62",
   "metadata": {},
   "outputs": [],
   "source": [
    "#set up the simulation\n",
    "pybullet.setGravity(0, 0, -9.81)   # everything should fall down\n",
    "pybullet.setTimeStep(0.0001)       # this slows everything down, but let's be accurate...\n",
    "pybullet.setRealTimeSimulation(0)  # we want to be faster than real time :)"
   ]
  },
  {
   "cell_type": "code",
   "execution_count": 12,
   "id": "61f1d5a6-f748-4c94-b2ad-b5e94ccc4482",
   "metadata": {},
   "outputs": [],
   "source": [
    "#give the robot something to do. We will set the desired joint angle. There are other control modes: velocity control and torque control.\n",
    "pybullet.setJointMotorControlArray(\n",
    "    robot_id, range(6), pybullet.POSITION_CONTROL,\n",
    "    targetPositions=[0.1] * 6)"
   ]
  },
  {
   "cell_type": "code",
   "execution_count": 13,
   "id": "0254448c-89cf-456e-b711-4546a1be23de",
   "metadata": {},
   "outputs": [],
   "source": [
    "#can step through the simulation\n",
    "for _ in range(10000):\n",
    "    pybullet.stepSimulation()"
   ]
  },
  {
   "cell_type": "code",
   "execution_count": 14,
   "id": "c26a7417-3695-4dbd-882e-ad41b399b701",
   "metadata": {},
   "outputs": [],
   "source": [
    "# The robot moves, but it will almost fall over. What happened? Well, we forgot to attach it to the ground! Let's do that now:\n",
    "pybullet.resetSimulation()\n",
    "plane = pybullet.loadURDF(\"plane.urdf\")\n",
    "robot = pybullet.loadURDF(\"arm.urdf\",\n",
    "                          [0, 0, 0], useFixedBase=1)  # use a fixed base!\n",
    "pybullet.setGravity(0, 0, -9.81)\n",
    "pybullet.setTimeStep(0.0001)\n",
    "pybullet.setRealTimeSimulation(0)"
   ]
  },
  {
   "cell_type": "code",
   "execution_count": 15,
   "id": "bd808a02-c9c2-4721-a748-112d975cf789",
   "metadata": {},
   "outputs": [],
   "source": [
    "pybullet.setJointMotorControlArray(\n",
    "    robot, range(6), pybullet.POSITION_CONTROL,\n",
    "    targetPositions=[0.1] * 6)\n",
    "for _ in range(10000):\n",
    "    pybullet.stepSimulation()"
   ]
  }
 ],
 "metadata": {
  "kernelspec": {
   "display_name": "Python 3 (ipykernel)",
   "language": "python",
   "name": "python3"
  },
  "language_info": {
   "codemirror_mode": {
    "name": "ipython",
    "version": 3
   },
   "file_extension": ".py",
   "mimetype": "text/x-python",
   "name": "python",
   "nbconvert_exporter": "python",
   "pygments_lexer": "ipython3",
   "version": "3.12.2"
  }
 },
 "nbformat": 4,
 "nbformat_minor": 5
}
